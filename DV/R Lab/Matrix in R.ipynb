{
 "cells": [
  {
   "cell_type": "markdown",
   "id": "greek-valuation",
   "metadata": {},
   "source": [
    "# ##Applications of R Matrices\n",
    "\n",
    "In geology, matrices are used for taking surveys and also used for plotting graphs, statistics, and studies in different fields.\n",
    "\n",
    "To represent the real world data is like traits of people’s population. They are the best representation method for plotting common survey things.\n",
    "\n",
    "In robotics and automation, matrices are the best elements for the robot movements.\n",
    "\n",
    "Matrices are used in calculating the gross domestic products in Economics. Therefore, it helps in calculating the efficiency of goods and products.\n",
    "\n",
    "In computer-based application, matrices play a vital role in the projection of three-dimensional image into a two-dimensional screen, creating a realistic seeming motion.\n",
    "\n",
    "In physical related applications, matrices can be applied in the study of an electrical circuit."
   ]
  },
  {
   "cell_type": "code",
   "execution_count": null,
   "id": "amazing-macedonia",
   "metadata": {},
   "outputs": [],
   "source": [
    "matrix(data, nrow, ncol, byrow, dimnames)\n",
    "\n",
    "Where,\n",
    "\n",
    "Data is the input vector. This can also include a list or an expression.\n",
    "Nrow is the number of rows that we wish to create in our matrix.\n",
    "Ncol is the specification of the number of columns in our matrix.\n",
    "Byrow is a logical attribute which is FALSE by default. Setting it true will arrange the input vectors by row.\n",
    "Dimnames allows you to name rows and columns in a matrix."
   ]
  },
  {
   "cell_type": "code",
   "execution_count": 6,
   "id": "altered-electric",
   "metadata": {},
   "outputs": [
    {
     "data": {
      "text/html": [
       "<table>\n",
       "<tbody>\n",
       "\t<tr><td>2</td><td>3</td><td>5</td></tr>\n",
       "\t<tr><td>4</td><td>1</td><td>7</td></tr>\n",
       "</tbody>\n",
       "</table>\n"
      ],
      "text/latex": [
       "\\begin{tabular}{lll}\n",
       "\t 2 & 3 & 5\\\\\n",
       "\t 4 & 1 & 7\\\\\n",
       "\\end{tabular}\n"
      ],
      "text/markdown": [
       "\n",
       "| 2 | 3 | 5 |\n",
       "| 4 | 1 | 7 |\n",
       "\n"
      ],
      "text/plain": [
       "     [,1] [,2] [,3]\n",
       "[1,] 2    3    5   \n",
       "[2,] 4    1    7   "
      ]
     },
     "metadata": {},
     "output_type": "display_data"
    }
   ],
   "source": [
    "mat <- matrix (\n",
    "c(2 , 4, 3, 1, 5, 7),       # the data elements\n",
    "nrow =2,                   # no. of rows\n",
    "ncol =3,                   # no. of columns\n",
    "byrow = FALSE)                # Default: FALSE\n",
    "mat"
   ]
  },
  {
   "cell_type": "code",
   "execution_count": 7,
   "id": "likely-tamil",
   "metadata": {},
   "outputs": [
    {
     "data": {
      "text/html": [
       "7"
      ],
      "text/latex": [
       "7"
      ],
      "text/markdown": [
       "7"
      ],
      "text/plain": [
       "[1] 7"
      ]
     },
     "metadata": {},
     "output_type": "display_data"
    },
    {
     "data": {
      "text/html": [
       "<ol class=list-inline>\n",
       "\t<li>4</li>\n",
       "\t<li>1</li>\n",
       "\t<li>7</li>\n",
       "</ol>\n"
      ],
      "text/latex": [
       "\\begin{enumerate*}\n",
       "\\item 4\n",
       "\\item 1\n",
       "\\item 7\n",
       "\\end{enumerate*}\n"
      ],
      "text/markdown": [
       "1. 4\n",
       "2. 1\n",
       "3. 7\n",
       "\n",
       "\n"
      ],
      "text/plain": [
       "[1] 4 1 7"
      ]
     },
     "metadata": {},
     "output_type": "display_data"
    },
    {
     "data": {
      "text/html": [
       "<ol class=list-inline>\n",
       "\t<li>5</li>\n",
       "\t<li>7</li>\n",
       "</ol>\n"
      ],
      "text/latex": [
       "\\begin{enumerate*}\n",
       "\\item 5\n",
       "\\item 7\n",
       "\\end{enumerate*}\n"
      ],
      "text/markdown": [
       "1. 5\n",
       "2. 7\n",
       "\n",
       "\n"
      ],
      "text/plain": [
       "[1] 5 7"
      ]
     },
     "metadata": {},
     "output_type": "display_data"
    }
   ],
   "source": [
    "mat[2, 3]\n",
    "mat[2, ]\n",
    "mat[ ,3]"
   ]
  },
  {
   "cell_type": "code",
   "execution_count": 8,
   "id": "improved-soccer",
   "metadata": {},
   "outputs": [
    {
     "name": "stdout",
     "output_type": "stream",
     "text": [
      "     [,1] [,2] [,3]\n",
      "[1,]    4    5    6\n",
      "[2,]    7    8    9\n",
      "[3,]   10   11   12\n",
      "[4,]   13   14   15\n"
     ]
    }
   ],
   "source": [
    "arrang_row <- matrix(c(4:15), nrow = 4, byrow = TRUE) #Creating our matrix and arranging it by row\n",
    "print(arrang_row) #Printing our arranged matrix"
   ]
  },
  {
   "cell_type": "code",
   "execution_count": 13,
   "id": "considered-shirt",
   "metadata": {},
   "outputs": [
    {
     "name": "stdout",
     "output_type": "stream",
     "text": [
      "     [,1] [,2] [,3]\n",
      "[1,]    4    8   12\n",
      "[2,]    5    9   13\n",
      "[3,]    6   10   14\n",
      "[4,]    7   11   15\n"
     ]
    }
   ],
   "source": [
    "arrang_col <- matrix(c(4:15), nrow = 4, byrow = FALSE)     \n",
    "#Creating our matrix and arranging it by column\n",
    "print(arrang_col)"
   ]
  },
  {
   "cell_type": "code",
   "execution_count": 14,
   "id": "invalid-beads",
   "metadata": {},
   "outputs": [
    {
     "name": "stdout",
     "output_type": "stream",
     "text": [
      "     colm1 colm2 colm3\n",
      "row1     4     5     6\n",
      "row2     7     8     9\n",
      "row3    10    11    12\n",
      "row4    13    14    15\n"
     ]
    }
   ],
   "source": [
    "rows = c(\"row1\", \"row2\", \"row3\", \"row4\")     #Creating our character vector of row names\n",
    "\n",
    "cols = c(\"colm1\", \"colm2\", \"colm3\")          #Creating our character vector of column names\n",
    "\n",
    "mat <- matrix(c(4:15), nrow = 4, byrow = TRUE, dimnames = list(rows, cols) )   \n",
    "#creating our matrix mat and assigning our vectors to dimnames\n",
    "\n",
    "print(mat)                    #Printing our matrix"
   ]
  },
  {
   "cell_type": "code",
   "execution_count": 44,
   "id": "acute-potter",
   "metadata": {},
   "outputs": [
    {
     "name": "stdout",
     "output_type": "stream",
     "text": [
      "[1] 0\n"
     ]
    }
   ],
   "source": [
    "print(mat['row1','colm3'])"
   ]
  },
  {
   "cell_type": "code",
   "execution_count": 17,
   "id": "optical-chemistry",
   "metadata": {},
   "outputs": [
    {
     "name": "stdout",
     "output_type": "stream",
     "text": [
      "colm1 colm2 colm3 \n",
      "    7     8     9 \n"
     ]
    }
   ],
   "source": [
    " print(mat[2, ])"
   ]
  },
  {
   "cell_type": "code",
   "execution_count": 18,
   "id": "empirical-fields",
   "metadata": {},
   "outputs": [
    {
     "name": "stdout",
     "output_type": "stream",
     "text": [
      "row1 row2 row3 row4 \n",
      "   5    8   11   14 \n"
     ]
    }
   ],
   "source": [
    "print(mat[ , 2])"
   ]
  },
  {
   "cell_type": "code",
   "execution_count": 19,
   "id": "marine-venice",
   "metadata": {},
   "outputs": [
    {
     "data": {
      "text/html": [
       "<table>\n",
       "<thead><tr><th></th><th scope=col>colm1</th><th scope=col>colm2</th><th scope=col>colm3</th></tr></thead>\n",
       "<tbody>\n",
       "\t<tr><th scope=row>row1</th><td> 4</td><td> 5</td><td> 6</td></tr>\n",
       "\t<tr><th scope=row>row2</th><td> 7</td><td> 8</td><td> 9</td></tr>\n",
       "\t<tr><th scope=row>row3</th><td>10</td><td>11</td><td>12</td></tr>\n",
       "\t<tr><th scope=row>row4</th><td>13</td><td>14</td><td>15</td></tr>\n",
       "</tbody>\n",
       "</table>\n"
      ],
      "text/latex": [
       "\\begin{tabular}{r|lll}\n",
       "  & colm1 & colm2 & colm3\\\\\n",
       "\\hline\n",
       "\trow1 &  4 &  5 &  6\\\\\n",
       "\trow2 &  7 &  8 &  9\\\\\n",
       "\trow3 & 10 & 11 & 12\\\\\n",
       "\trow4 & 13 & 14 & 15\\\\\n",
       "\\end{tabular}\n"
      ],
      "text/markdown": [
       "\n",
       "| <!--/--> | colm1 | colm2 | colm3 |\n",
       "|---|---|---|---|\n",
       "| row1 |  4 |  5 |  6 |\n",
       "| row2 |  7 |  8 |  9 |\n",
       "| row3 | 10 | 11 | 12 |\n",
       "| row4 | 13 | 14 | 15 |\n",
       "\n"
      ],
      "text/plain": [
       "     colm1 colm2 colm3\n",
       "row1  4     5     6   \n",
       "row2  7     8     9   \n",
       "row3 10    11    12   \n",
       "row4 13    14    15   "
      ]
     },
     "metadata": {},
     "output_type": "display_data"
    },
    {
     "data": {
      "text/html": [
       "<table>\n",
       "<thead><tr><th></th><th scope=col>colm1</th><th scope=col>colm2</th><th scope=col>colm3</th></tr></thead>\n",
       "<tbody>\n",
       "\t<tr><th scope=row>row1</th><td> 4</td><td> 5</td><td> 6</td></tr>\n",
       "\t<tr><th scope=row>row2</th><td> 7</td><td> 8</td><td>20</td></tr>\n",
       "\t<tr><th scope=row>row3</th><td>10</td><td>11</td><td>12</td></tr>\n",
       "\t<tr><th scope=row>row4</th><td>13</td><td>14</td><td>15</td></tr>\n",
       "</tbody>\n",
       "</table>\n"
      ],
      "text/latex": [
       "\\begin{tabular}{r|lll}\n",
       "  & colm1 & colm2 & colm3\\\\\n",
       "\\hline\n",
       "\trow1 &  4 &  5 &  6\\\\\n",
       "\trow2 &  7 &  8 & 20\\\\\n",
       "\trow3 & 10 & 11 & 12\\\\\n",
       "\trow4 & 13 & 14 & 15\\\\\n",
       "\\end{tabular}\n"
      ],
      "text/markdown": [
       "\n",
       "| <!--/--> | colm1 | colm2 | colm3 |\n",
       "|---|---|---|---|\n",
       "| row1 |  4 |  5 |  6 |\n",
       "| row2 |  7 |  8 | 20 |\n",
       "| row3 | 10 | 11 | 12 |\n",
       "| row4 | 13 | 14 | 15 |\n",
       "\n"
      ],
      "text/plain": [
       "     colm1 colm2 colm3\n",
       "row1  4     5     6   \n",
       "row2  7     8    20   \n",
       "row3 10    11    12   \n",
       "row4 13    14    15   "
      ]
     },
     "metadata": {},
     "output_type": "display_data"
    }
   ],
   "source": [
    "mat    #Displaying values of matrix mat\n",
    "\n",
    "mat[2,3] <- 20  #Assigning value 20 to the element at 2nd row and 3rd column\n",
    "mat   \t\t#Displaying our modified matrix."
   ]
  },
  {
   "cell_type": "code",
   "execution_count": 20,
   "id": "prime-england",
   "metadata": {},
   "outputs": [
    {
     "data": {
      "text/html": [
       "<table>\n",
       "<thead><tr><th></th><th scope=col>colm1</th><th scope=col>colm2</th><th scope=col>colm3</th></tr></thead>\n",
       "<tbody>\n",
       "\t<tr><th scope=row>row1</th><td> 0</td><td> 5</td><td> 6</td></tr>\n",
       "\t<tr><th scope=row>row2</th><td> 7</td><td> 8</td><td>20</td></tr>\n",
       "\t<tr><th scope=row>row3</th><td>10</td><td>11</td><td>12</td></tr>\n",
       "\t<tr><th scope=row>row4</th><td>13</td><td>14</td><td>15</td></tr>\n",
       "</tbody>\n",
       "</table>\n"
      ],
      "text/latex": [
       "\\begin{tabular}{r|lll}\n",
       "  & colm1 & colm2 & colm3\\\\\n",
       "\\hline\n",
       "\trow1 &  0 &  5 &  6\\\\\n",
       "\trow2 &  7 &  8 & 20\\\\\n",
       "\trow3 & 10 & 11 & 12\\\\\n",
       "\trow4 & 13 & 14 & 15\\\\\n",
       "\\end{tabular}\n"
      ],
      "text/markdown": [
       "\n",
       "| <!--/--> | colm1 | colm2 | colm3 |\n",
       "|---|---|---|---|\n",
       "| row1 |  0 |  5 |  6 |\n",
       "| row2 |  7 |  8 | 20 |\n",
       "| row3 | 10 | 11 | 12 |\n",
       "| row4 | 13 | 14 | 15 |\n",
       "\n"
      ],
      "text/plain": [
       "     colm1 colm2 colm3\n",
       "row1  0     5     6   \n",
       "row2  7     8    20   \n",
       "row3 10    11    12   \n",
       "row4 13    14    15   "
      ]
     },
     "metadata": {},
     "output_type": "display_data"
    }
   ],
   "source": [
    "mat[mat == 4] <- 0     #Replacing elements that are equal to 4 with 0\n",
    "mat  \t\t\t#Displaying our modified matrix ‘mat’"
   ]
  },
  {
   "cell_type": "code",
   "execution_count": 21,
   "id": "constitutional-saver",
   "metadata": {},
   "outputs": [
    {
     "data": {
      "text/html": [
       "<table>\n",
       "<thead><tr><th></th><th scope=col>colm1</th><th scope=col>colm2</th><th scope=col>colm3</th></tr></thead>\n",
       "<tbody>\n",
       "\t<tr><th scope=row>row1</th><td> 0</td><td> 0</td><td> 0</td></tr>\n",
       "\t<tr><th scope=row>row2</th><td> 0</td><td> 0</td><td>20</td></tr>\n",
       "\t<tr><th scope=row>row3</th><td>10</td><td>11</td><td>12</td></tr>\n",
       "\t<tr><th scope=row>row4</th><td>13</td><td>14</td><td>15</td></tr>\n",
       "</tbody>\n",
       "</table>\n"
      ],
      "text/latex": [
       "\\begin{tabular}{r|lll}\n",
       "  & colm1 & colm2 & colm3\\\\\n",
       "\\hline\n",
       "\trow1 &  0 &  0 &  0\\\\\n",
       "\trow2 &  0 &  0 & 20\\\\\n",
       "\trow3 & 10 & 11 & 12\\\\\n",
       "\trow4 & 13 & 14 & 15\\\\\n",
       "\\end{tabular}\n"
      ],
      "text/markdown": [
       "\n",
       "| <!--/--> | colm1 | colm2 | colm3 |\n",
       "|---|---|---|---|\n",
       "| row1 |  0 |  0 |  0 |\n",
       "| row2 |  0 |  0 | 20 |\n",
       "| row3 | 10 | 11 | 12 |\n",
       "| row4 | 13 | 14 | 15 |\n",
       "\n"
      ],
      "text/plain": [
       "     colm1 colm2 colm3\n",
       "row1  0     0     0   \n",
       "row2  0     0    20   \n",
       "row3 10    11    12   \n",
       "row4 13    14    15   "
      ]
     },
     "metadata": {},
     "output_type": "display_data"
    }
   ],
   "source": [
    "mat[mat < 10] <- 0       #Replacing elements that are less with 10 with 0\n",
    "mat"
   ]
  },
  {
   "cell_type": "code",
   "execution_count": 49,
   "id": "bound-acrobat",
   "metadata": {},
   "outputs": [
    {
     "data": {
      "text/html": [
       "<table>\n",
       "<tbody>\n",
       "\t<tr><td>1</td><td>4</td><td>7</td></tr>\n",
       "\t<tr><td>2</td><td>5</td><td>8</td></tr>\n",
       "\t<tr><td>3</td><td>6</td><td>9</td></tr>\n",
       "</tbody>\n",
       "</table>\n"
      ],
      "text/latex": [
       "\\begin{tabular}{lll}\n",
       "\t 1 & 4 & 7\\\\\n",
       "\t 2 & 5 & 8\\\\\n",
       "\t 3 & 6 & 9\\\\\n",
       "\\end{tabular}\n"
      ],
      "text/markdown": [
       "\n",
       "| 1 | 4 | 7 |\n",
       "| 2 | 5 | 8 |\n",
       "| 3 | 6 | 9 |\n",
       "\n"
      ],
      "text/plain": [
       "     [,1] [,2] [,3]\n",
       "[1,] 1    4    7   \n",
       "[2,] 2    5    8   \n",
       "[3,] 3    6    9   "
      ]
     },
     "metadata": {},
     "output_type": "display_data"
    }
   ],
   "source": [
    "new_mat = matrix(1:12, nrow = 3, ncol = 3)\n",
    "new_mat"
   ]
  },
  {
   "cell_type": "code",
   "execution_count": 51,
   "id": "dated-tribe",
   "metadata": {},
   "outputs": [
    {
     "name": "stdout",
     "output_type": "stream",
     "text": [
      "     [,1] [,2] [,3]\n",
      "[1,]    1    4    7\n",
      "[2,]    2    5    8\n",
      "[3,]    3    6    9\n",
      "     [,1] [,2] [,3] [,4]\n",
      "[1,]    1    4    7    1\n",
      "[2,]    2    5    8    2\n",
      "[3,]    3    6    9    3\n"
     ]
    }
   ],
   "source": [
    "a=cbind(new_mat, c(1,2,3))\n",
    "print(new_mat)\n",
    "print(a)"
   ]
  },
  {
   "cell_type": "code",
   "execution_count": 40,
   "id": "lucky-soundtrack",
   "metadata": {},
   "outputs": [
    {
     "data": {
      "text/html": [
       "<table>\n",
       "<tbody>\n",
       "\t<tr><td>1</td><td>4</td><td>7</td></tr>\n",
       "\t<tr><td>2</td><td>5</td><td>8</td></tr>\n",
       "\t<tr><td>3</td><td>6</td><td>9</td></tr>\n",
       "\t<tr><td>1</td><td>2</td><td>3</td></tr>\n",
       "</tbody>\n",
       "</table>\n"
      ],
      "text/latex": [
       "\\begin{tabular}{lll}\n",
       "\t 1 & 4 & 7\\\\\n",
       "\t 2 & 5 & 8\\\\\n",
       "\t 3 & 6 & 9\\\\\n",
       "\t 1 & 2 & 3\\\\\n",
       "\\end{tabular}\n"
      ],
      "text/markdown": [
       "\n",
       "| 1 | 4 | 7 |\n",
       "| 2 | 5 | 8 |\n",
       "| 3 | 6 | 9 |\n",
       "| 1 | 2 | 3 |\n",
       "\n"
      ],
      "text/plain": [
       "     [,1] [,2] [,3]\n",
       "[1,] 1    4    7   \n",
       "[2,] 2    5    8   \n",
       "[3,] 3    6    9   \n",
       "[4,] 1    2    3   "
      ]
     },
     "metadata": {},
     "output_type": "display_data"
    }
   ],
   "source": [
    "rbind(new_mat, c(1,2,3))"
   ]
  },
  {
   "cell_type": "code",
   "execution_count": 53,
   "id": "focused-ghana",
   "metadata": {},
   "outputs": [
    {
     "name": "stdout",
     "output_type": "stream",
     "text": [
      "      [,1]\n",
      " [1,]    1\n",
      " [2,]    2\n",
      " [3,]    3\n",
      " [4,]    4\n",
      " [5,]    5\n",
      " [6,]    6\n",
      " [7,]    7\n",
      " [8,]    8\n",
      " [9,]    9\n"
     ]
    }
   ],
   "source": [
    "dim(new_mat) <- c(9,1)\n",
    "print(new_mat)"
   ]
  },
  {
   "cell_type": "code",
   "execution_count": 54,
   "id": "cosmetic-henry",
   "metadata": {},
   "outputs": [
    {
     "data": {
      "text/html": [
       "<table>\n",
       "<tbody>\n",
       "\t<tr><td>1</td><td>4</td><td>7</td></tr>\n",
       "\t<tr><td>2</td><td>5</td><td>8</td></tr>\n",
       "\t<tr><td>3</td><td>6</td><td>9</td></tr>\n",
       "</tbody>\n",
       "</table>\n"
      ],
      "text/latex": [
       "\\begin{tabular}{lll}\n",
       "\t 1 & 4 & 7\\\\\n",
       "\t 2 & 5 & 8\\\\\n",
       "\t 3 & 6 & 9\\\\\n",
       "\\end{tabular}\n"
      ],
      "text/markdown": [
       "\n",
       "| 1 | 4 | 7 |\n",
       "| 2 | 5 | 8 |\n",
       "| 3 | 6 | 9 |\n",
       "\n"
      ],
      "text/plain": [
       "     [,1] [,2] [,3]\n",
       "[1,] 1    4    7   \n",
       "[2,] 2    5    8   \n",
       "[3,] 3    6    9   "
      ]
     },
     "metadata": {},
     "output_type": "display_data"
    }
   ],
   "source": [
    "dim(new_mat) <- c(3,3)\n",
    "new_mat"
   ]
  },
  {
   "cell_type": "code",
   "execution_count": 28,
   "id": "destroyed-motorcycle",
   "metadata": {},
   "outputs": [
    {
     "data": {
      "text/html": [
       "<table>\n",
       "<tbody>\n",
       "\t<tr><td>1</td><td>2</td><td>3</td></tr>\n",
       "\t<tr><td>4</td><td>5</td><td>6</td></tr>\n",
       "\t<tr><td>7</td><td>8</td><td>9</td></tr>\n",
       "</tbody>\n",
       "</table>\n"
      ],
      "text/latex": [
       "\\begin{tabular}{lll}\n",
       "\t 1 & 2 & 3\\\\\n",
       "\t 4 & 5 & 6\\\\\n",
       "\t 7 & 8 & 9\\\\\n",
       "\\end{tabular}\n"
      ],
      "text/markdown": [
       "\n",
       "| 1 | 2 | 3 |\n",
       "| 4 | 5 | 6 |\n",
       "| 7 | 8 | 9 |\n",
       "\n"
      ],
      "text/plain": [
       "     [,1] [,2] [,3]\n",
       "[1,] 1    2    3   \n",
       "[2,] 4    5    6   \n",
       "[3,] 7    8    9   "
      ]
     },
     "metadata": {},
     "output_type": "display_data"
    }
   ],
   "source": [
    "t(new_mat)   #transpose"
   ]
  },
  {
   "cell_type": "code",
   "execution_count": 31,
   "id": "separate-mobility",
   "metadata": {},
   "outputs": [
    {
     "data": {
      "text/html": [
       "<table>\n",
       "<tbody>\n",
       "\t<tr><td>1</td><td>5</td><td>1</td><td>5</td></tr>\n",
       "\t<tr><td>2</td><td>6</td><td>2</td><td>6</td></tr>\n",
       "\t<tr><td>3</td><td>7</td><td>3</td><td>7</td></tr>\n",
       "\t<tr><td>4</td><td>8</td><td>4</td><td>8</td></tr>\n",
       "</tbody>\n",
       "</table>\n"
      ],
      "text/latex": [
       "\\begin{tabular}{llll}\n",
       "\t 1 & 5 & 1 & 5\\\\\n",
       "\t 2 & 6 & 2 & 6\\\\\n",
       "\t 3 & 7 & 3 & 7\\\\\n",
       "\t 4 & 8 & 4 & 8\\\\\n",
       "\\end{tabular}\n"
      ],
      "text/markdown": [
       "\n",
       "| 1 | 5 | 1 | 5 |\n",
       "| 2 | 6 | 2 | 6 |\n",
       "| 3 | 7 | 3 | 7 |\n",
       "| 4 | 8 | 4 | 8 |\n",
       "\n"
      ],
      "text/plain": [
       "     [,1] [,2] [,3] [,4]\n",
       "[1,] 1    5    1    5   \n",
       "[2,] 2    6    2    6   \n",
       "[3,] 3    7    3    7   \n",
       "[4,] 4    8    4    8   "
      ]
     },
     "metadata": {},
     "output_type": "display_data"
    },
    {
     "data": {
      "text/html": [
       "<table>\n",
       "<tbody>\n",
       "\t<tr><td>1 </td><td>5 </td><td> 9</td><td>13</td></tr>\n",
       "\t<tr><td>2 </td><td>6 </td><td>10</td><td>14</td></tr>\n",
       "\t<tr><td>3 </td><td>7 </td><td>11</td><td>15</td></tr>\n",
       "\t<tr><td>4 </td><td>8 </td><td>12</td><td>16</td></tr>\n",
       "</tbody>\n",
       "</table>\n"
      ],
      "text/latex": [
       "\\begin{tabular}{llll}\n",
       "\t 1  & 5  &  9 & 13\\\\\n",
       "\t 2  & 6  & 10 & 14\\\\\n",
       "\t 3  & 7  & 11 & 15\\\\\n",
       "\t 4  & 8  & 12 & 16\\\\\n",
       "\\end{tabular}\n"
      ],
      "text/markdown": [
       "\n",
       "| 1  | 5  |  9 | 13 |\n",
       "| 2  | 6  | 10 | 14 |\n",
       "| 3  | 7  | 11 | 15 |\n",
       "| 4  | 8  | 12 | 16 |\n",
       "\n"
      ],
      "text/plain": [
       "     [,1] [,2] [,3] [,4]\n",
       "[1,] 1    5     9   13  \n",
       "[2,] 2    6    10   14  \n",
       "[3,] 3    7    11   15  \n",
       "[4,] 4    8    12   16  "
      ]
     },
     "metadata": {},
     "output_type": "display_data"
    }
   ],
   "source": [
    "mat1 <- matrix(data = 1:8, nrow = 4, ncol = 4) #Creating our first matrix mat1\n",
    "mat1\n",
    "mat2 <- matrix(data = 1:16, nrow = 4, ncol = 4) #Creating our second matrix mat2\n",
    "mat2"
   ]
  },
  {
   "cell_type": "code",
   "execution_count": 30,
   "id": "physical-cabin",
   "metadata": {},
   "outputs": [
    {
     "name": "stdout",
     "output_type": "stream",
     "text": [
      "     [,1] [,2] [,3] [,4]\n",
      "[1,]    2   10   10   18\n",
      "[2,]    4   12   12   20\n",
      "[3,]    6   14   14   22\n",
      "[4,]    8   16   16   24\n"
     ]
    }
   ],
   "source": [
    "sum <- mat1 + mat2 #Adding our two matrices\n",
    "print(sum) #Printing the sum"
   ]
  },
  {
   "cell_type": "code",
   "execution_count": 32,
   "id": "touched-bolivia",
   "metadata": {},
   "outputs": [
    {
     "name": "stdout",
     "output_type": "stream",
     "text": [
      "     [,1] [,2] [,3] [,4]\n",
      "[1,]    0    0   -8   -8\n",
      "[2,]    0    0   -8   -8\n",
      "[3,]    0    0   -8   -8\n",
      "[4,]    0    0   -8   -8\n"
     ]
    }
   ],
   "source": [
    "sub <- mat1 - mat2 #Adding our two matrices\n",
    "print(sub) #Printing the sum"
   ]
  },
  {
   "cell_type": "code",
   "execution_count": 57,
   "id": "given-excitement",
   "metadata": {},
   "outputs": [
    {
     "name": "stdout",
     "output_type": "stream",
     "text": [
      "     [,1] [,2] [,3] [,4]\n",
      "[1,]   -3  -35   -3  -35\n",
      "[2,]  -11  -43  -11  -43\n",
      "[3,]  -19  -51  -19  -51\n",
      "[4,]  -27  -59  -27  -59\n"
     ]
    }
   ],
   "source": [
    "prod <- mat1*-4*2+5 #Multiplying matrix mat1 with constant value 4\n",
    "print(prod) #Printing the product"
   ]
  },
  {
   "cell_type": "code",
   "execution_count": 34,
   "id": "driven-artwork",
   "metadata": {},
   "outputs": [
    {
     "name": "stdout",
     "output_type": "stream",
     "text": [
      "     [,1] [,2] [,3] [,4]\n",
      "[1,]    1   25    9   65\n",
      "[2,]    4   36   20   84\n",
      "[3,]    9   49   33  105\n",
      "[4,]   16   64   48  128\n"
     ]
    }
   ],
   "source": [
    "prod <- mat1*mat2 #Multiplying matrix mat1 with mat2\n",
    "print(prod) #Printing the product"
   ]
  },
  {
   "cell_type": "code",
   "execution_count": 35,
   "id": "thirty-asthma",
   "metadata": {},
   "outputs": [
    {
     "name": "stdout",
     "output_type": "stream",
     "text": [
      "     [,1] [,2]      [,3]      [,4]\n",
      "[1,]    1    1 0.1111111 0.3846154\n",
      "[2,]    1    1 0.2000000 0.4285714\n",
      "[3,]    1    1 0.2727273 0.4666667\n",
      "[4,]    1    1 0.3333333 0.5000000\n"
     ]
    }
   ],
   "source": [
    "div <- mat1/mat2 #Division of mat1 and mat2 \n",
    "print(div) #Printing the division"
   ]
  },
  {
   "cell_type": "code",
   "execution_count": 58,
   "id": "broke-stanford",
   "metadata": {},
   "outputs": [
    {
     "name": "stdout",
     "output_type": "stream",
     "text": [
      "[1] \"Original matrix:\"\n",
      "     [,1] [,2] [,3] [,4]\n",
      "[1,]    1    4    7   10\n",
      "[2,]    2    5    8   11\n",
      "[3,]    3    6    9   12\n",
      "[1] \"1 dimensional array:\"\n",
      " [1]  1  2  3  4  5  6  7  8  9 10 11 12\n"
     ]
    }
   ],
   "source": [
    "m=matrix(1:12,3,4)\n",
    "print(\"Original matrix:\")\n",
    "print(m)\n",
    "a = as.vector(m)\n",
    "print(\"1 dimensional array:\")\n",
    "print(a)"
   ]
  },
  {
   "cell_type": "code",
   "execution_count": null,
   "id": "steady-station",
   "metadata": {},
   "outputs": [],
   "source": []
  }
 ],
 "metadata": {
  "kernelspec": {
   "display_name": "R",
   "language": "R",
   "name": "ir"
  },
  "language_info": {
   "codemirror_mode": "r",
   "file_extension": ".r",
   "mimetype": "text/x-r-source",
   "name": "R",
   "pygments_lexer": "r",
   "version": "3.6.1"
  }
 },
 "nbformat": 4,
 "nbformat_minor": 5
}
