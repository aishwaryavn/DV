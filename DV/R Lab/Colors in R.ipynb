{
 "cells": [
  {
   "cell_type": "markdown",
   "id": "convinced-netherlands",
   "metadata": {},
   "source": [
    "The top 6 predefined color palettes in R, available in different R packages:\n",
    "\n",
    "Viridis color scales [viridis package].\n",
    "Colorbrewer palettes [RColorBrewer package]\n",
    "Grey color palettes [ggplot2 package]\n",
    "Scientific journal color palettes [ggsci package]\n",
    "Wes Anderson color palettes [wesanderson package]\n",
    "R base color palettes: rainbow, heat.colors, cm.colors.\n",
    "\n"
   ]
  },
  {
   "cell_type": "code",
   "execution_count": null,
   "id": "presidential-louisville",
   "metadata": {},
   "outputs": [],
   "source": [
    "?rainbow"
   ]
  },
  {
   "cell_type": "code",
   "execution_count": null,
   "id": "unlikely-pointer",
   "metadata": {},
   "outputs": [],
   "source": [
    "help(package=colorspace)"
   ]
  },
  {
   "cell_type": "code",
   "execution_count": null,
   "id": "developing-thomson",
   "metadata": {},
   "outputs": [],
   "source": [
    "?par\n"
   ]
  },
  {
   "cell_type": "code",
   "execution_count": null,
   "id": "answering-filing",
   "metadata": {},
   "outputs": [],
   "source": [
    "n=seq(1:12)\n",
    "barplot(n)"
   ]
  },
  {
   "cell_type": "code",
   "execution_count": null,
   "id": "unlikely-chaos",
   "metadata": {},
   "outputs": [],
   "source": [
    "n=12\n",
    "pie(rep(1,n), col=FALSE)"
   ]
  },
  {
   "cell_type": "code",
   "execution_count": null,
   "id": "alleged-peninsula",
   "metadata": {},
   "outputs": [],
   "source": [
    "# Barplot using hexadecimal color code\n",
    "barplot(c(2,5), col=c(\"#009999\", \"#0000FF\"))"
   ]
  },
  {
   "cell_type": "code",
   "execution_count": null,
   "id": "visible-reduction",
   "metadata": {},
   "outputs": [],
   "source": [
    "#The color palettes associated to RColorBrewer package can be drawn using display.brewer.all() \n",
    "library(\"RColorBrewer\")\n",
    "display.brewer.all()"
   ]
  },
  {
   "cell_type": "markdown",
   "id": "involved-recovery",
   "metadata": {},
   "source": [
    "# There are 3 types of palettes : sequential, diverging, and qualitative.\n",
    "\n",
    "1. Sequential palettes are suited to ordered data that progress from low to high (gradient). The palettes names are : Blues, BuGn, BuPu, GnBu, Greens, Greys, Oranges, OrRd, PuBu, PuBuGn, PuRd, Purples, RdPu, Reds, YlGn, YlGnBu YlOrBr, YlOrRd.\n",
    "2. Diverging palettes put equal emphasis on mid-range critical values and extremes at both ends of the data range. The diverging palettes are : BrBG, PiYG, PRGn, PuOr, RdBu, RdGy, RdYlBu, RdYlGn, Spectral\n",
    "3. Qualitative palettes are best suited to representing nominal or categorical data. They not imply magnitude differences between groups. The palettes names are : Accent, Dark2, Paired, Pastel1, Pastel2, Set1, Set2, Set3"
   ]
  },
  {
   "cell_type": "code",
   "execution_count": null,
   "id": "streaming-steel",
   "metadata": {},
   "outputs": [],
   "source": [
    "# View a single RColorBrewer palette by specifying its name\n",
    "display.brewer.pal(n = 8, name = 'RdBu')"
   ]
  },
  {
   "cell_type": "code",
   "execution_count": null,
   "id": "fallen-venice",
   "metadata": {},
   "outputs": [],
   "source": [
    "# Hexadecimal color specification \n",
    "brewer.pal(n = 8, name = \"RdBu\")"
   ]
  },
  {
   "cell_type": "code",
   "execution_count": null,
   "id": "southwest-scanning",
   "metadata": {},
   "outputs": [],
   "source": [
    "display.brewer.pal(n = 8, name = 'Dark2')"
   ]
  },
  {
   "cell_type": "code",
   "execution_count": null,
   "id": "foreign-stretch",
   "metadata": {},
   "outputs": [],
   "source": [
    "# Barplot using RColorBrewer\n",
    "barplot(c(2,5,7), col=brewer.pal(n = 3, name = \"RdBu\"))"
   ]
  },
  {
   "cell_type": "code",
   "execution_count": null,
   "id": "transsexual-springer",
   "metadata": {},
   "outputs": [],
   "source": [
    "install.packages(\"viridis\")  # Install\n",
    "library(\"viridis\")           # Load"
   ]
  },
  {
   "cell_type": "code",
   "execution_count": null,
   "id": "difficult-constraint",
   "metadata": {},
   "outputs": [],
   "source": [
    "barplot(1:10, col = viridis(10))"
   ]
  },
  {
   "cell_type": "code",
   "execution_count": null,
   "id": "secondary-interim",
   "metadata": {},
   "outputs": [],
   "source": [
    "# Install\n",
    "install.packages(\"wesanderson\")\n",
    "# Load\n",
    "library(wesanderson)"
   ]
  },
  {
   "cell_type": "code",
   "execution_count": null,
   "id": "raised-state",
   "metadata": {},
   "outputs": [],
   "source": [
    "names(wes_palettes)"
   ]
  },
  {
   "cell_type": "code",
   "execution_count": null,
   "id": "mature-detection",
   "metadata": {},
   "outputs": [],
   "source": [
    "barplot(1:10, col = wes_palette(\"Zissou1\", 10, type = \"continuous\"))"
   ]
  },
  {
   "cell_type": "code",
   "execution_count": null,
   "id": "mexican-rings",
   "metadata": {},
   "outputs": [],
   "source": [
    "# Use rainbow colors\n",
    "barplot(1:5, col=rainbow(5))\n",
    "# Use heat.colors\n",
    "barplot(1:5, col=heat.colors(5))"
   ]
  },
  {
   "cell_type": "code",
   "execution_count": null,
   "id": "timely-heavy",
   "metadata": {},
   "outputs": [],
   "source": [
    "# Use terrain.colors\n",
    "barplot(1:5, col=terrain.colors(5))\n",
    "# Use topo.colors\n",
    "barplot(1:5, col=topo.colors(5))\n",
    "# Use cm.colors\n",
    "barplot(1:5, col=cm.colors(5))"
   ]
  },
  {
   "cell_type": "code",
   "execution_count": null,
   "id": "meaning-junior",
   "metadata": {},
   "outputs": [],
   "source": [
    "pie(rep(1,n), col=rainbow(n))"
   ]
  },
  {
   "cell_type": "code",
   "execution_count": null,
   "id": "divided-lotus",
   "metadata": {},
   "outputs": [],
   "source": [
    "\n",
    "pie(rep(1,n), col=heat.colors(n))"
   ]
  },
  {
   "cell_type": "code",
   "execution_count": null,
   "id": "imported-chase",
   "metadata": {},
   "outputs": [],
   "source": [
    "\n",
    "pie(rep(1,n), col=terrain.colors(n))"
   ]
  },
  {
   "cell_type": "code",
   "execution_count": null,
   "id": "interested-basic",
   "metadata": {},
   "outputs": [],
   "source": [
    "#If you prefer these this type of palette, but with a bit more blue, try topo.\n",
    "\n",
    "pie(rep(1,n), col=topo.colors(n))"
   ]
  },
  {
   "cell_type": "code",
   "execution_count": null,
   "id": "precise-healthcare",
   "metadata": {},
   "outputs": [],
   "source": [
    "#Finally, if you prefer subdued pinks and blues, try cm.\n",
    "pie(rep(1,n), col=cm.colors(n))"
   ]
  },
  {
   "cell_type": "code",
   "execution_count": null,
   "id": "still-table",
   "metadata": {},
   "outputs": [],
   "source": [
    "barplot(seq(1:12), col=topo.colors(12))"
   ]
  },
  {
   "cell_type": "code",
   "execution_count": null,
   "id": "multiple-liechtenstein",
   "metadata": {},
   "outputs": [],
   "source": []
  }
 ],
 "metadata": {
  "kernelspec": {
   "display_name": "R",
   "language": "R",
   "name": "ir"
  },
  "language_info": {
   "codemirror_mode": "r",
   "file_extension": ".r",
   "mimetype": "text/x-r-source",
   "name": "R",
   "pygments_lexer": "r",
   "version": "3.6.1"
  }
 },
 "nbformat": 4,
 "nbformat_minor": 5
}
