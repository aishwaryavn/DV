{
 "cells": [
  {
   "cell_type": "markdown",
   "id": "recreational-happening",
   "metadata": {},
   "source": [
    "R arrays are the data objects which can store data in more than two dimensions. An array is created using the array() function. We can use vectors as input and create an array using the below-mentioned values in the dim parameter."
   ]
  },
  {
   "cell_type": "markdown",
   "id": "aerial-offer",
   "metadata": {},
   "source": [
    "array_name <- array(data, dim= (row_size, column_size, matrices, dim_names)) \n",
    "data\n",
    "\n",
    "The data is the first argument in the array() function. It is an input vector which is given to the array.\n",
    "\n",
    "matrices\n",
    "\n",
    "In R, the array consists of multi-dimensional matrices.\n",
    "\n",
    "row_size\n",
    "\n",
    "This parameter defines the number of row elements which an array can store.\n",
    "\n",
    "column_size\n",
    "\n",
    "This parameter defines the number of columns elements which an array can store.\n",
    "\n",
    "dim_names\n",
    "\n",
    "This parameter is used to change the default names of rows and columns."
   ]
  },
  {
   "cell_type": "code",
   "execution_count": 10,
   "id": "narrative-indicator",
   "metadata": {},
   "outputs": [
    {
     "name": "stdout",
     "output_type": "stream",
     "text": [
      ", , 1\n",
      "\n",
      "     [,1] [,2] [,3]\n",
      "[1,]    1   10   13\n",
      "[2,]    3   11   14\n",
      "[3,]    5   12   15\n",
      "\n",
      ", , 2\n",
      "\n",
      "     [,1] [,2] [,3]\n",
      "[1,]    1   10   13\n",
      "[2,]    3   11   14\n",
      "[3,]    5   12   15\n",
      "\n"
     ]
    }
   ],
   "source": [
    "#Creating two vectors of different lengths  \n",
    "vec1 <-c(1,3,5)  \n",
    "vec2 <-c(10,11,12,13,14,15)  \n",
    "  \n",
    "#Taking these vectors as input to the array   \n",
    "res <- array(c(vec1,vec2),dim=c(3,3,2))  \n",
    "print(res)  "
   ]
  },
  {
   "cell_type": "code",
   "execution_count": 13,
   "id": "nominated-asthma",
   "metadata": {},
   "outputs": [
    {
     "name": "stdout",
     "output_type": "stream",
     "text": [
      " [1]  1  2  3  4  5  6  7  8  9 10 11 12 13 14 15 16 17 18 19 20 21 22 23 24\n",
      ", , 1\n",
      "\n",
      "     [,1] [,2] [,3]\n",
      "[1,]    1    5    9\n",
      "[2,]    2    6   10\n",
      "[3,]    3    7   11\n",
      "[4,]    4    8   12\n",
      "\n",
      ", , 2\n",
      "\n",
      "     [,1] [,2] [,3]\n",
      "[1,]   13   17   21\n",
      "[2,]   14   18   22\n",
      "[3,]   15   19   23\n",
      "[4,]   16   20   24\n",
      "\n"
     ]
    }
   ],
   "source": [
    "# An array with one dimension with values ranging from 1 to 24\n",
    "thisarray <- c(1:24)\n",
    "print(thisarray)\n",
    "\n",
    "# An array with more than one dimension\n",
    "multiarray <- array(thisarray, dim = c(4, 3, 2))\n",
    "print(multiarray)"
   ]
  },
  {
   "cell_type": "code",
   "execution_count": 14,
   "id": "fatty-aircraft",
   "metadata": {},
   "outputs": [
    {
     "data": {
      "text/html": [
       "22"
      ],
      "text/latex": [
       "22"
      ],
      "text/markdown": [
       "22"
      ],
      "text/plain": [
       "[1] 22"
      ]
     },
     "metadata": {},
     "output_type": "display_data"
    }
   ],
   "source": [
    "thisarray <- c(1:24)\n",
    "multiarray <- array(thisarray, dim = c(4, 3, 2))\n",
    "\n",
    "multiarray[2, 3, 2]"
   ]
  },
  {
   "cell_type": "code",
   "execution_count": 15,
   "id": "planned-artwork",
   "metadata": {},
   "outputs": [
    {
     "data": {
      "text/html": [
       "<ol class=list-inline>\n",
       "\t<li>1</li>\n",
       "\t<li>5</li>\n",
       "\t<li>9</li>\n",
       "</ol>\n"
      ],
      "text/latex": [
       "\\begin{enumerate*}\n",
       "\\item 1\n",
       "\\item 5\n",
       "\\item 9\n",
       "\\end{enumerate*}\n"
      ],
      "text/markdown": [
       "1. 1\n",
       "2. 5\n",
       "3. 9\n",
       "\n",
       "\n"
      ],
      "text/plain": [
       "[1] 1 5 9"
      ]
     },
     "metadata": {},
     "output_type": "display_data"
    },
    {
     "data": {
      "text/html": [
       "<ol class=list-inline>\n",
       "\t<li>1</li>\n",
       "\t<li>2</li>\n",
       "\t<li>3</li>\n",
       "\t<li>4</li>\n",
       "</ol>\n"
      ],
      "text/latex": [
       "\\begin{enumerate*}\n",
       "\\item 1\n",
       "\\item 2\n",
       "\\item 3\n",
       "\\item 4\n",
       "\\end{enumerate*}\n"
      ],
      "text/markdown": [
       "1. 1\n",
       "2. 2\n",
       "3. 3\n",
       "4. 4\n",
       "\n",
       "\n"
      ],
      "text/plain": [
       "[1] 1 2 3 4"
      ]
     },
     "metadata": {},
     "output_type": "display_data"
    }
   ],
   "source": [
    "thisarray <- c(1:24)\n",
    "\n",
    "# Access all the items from the first row from matrix one\n",
    "multiarray <- array(thisarray, dim = c(4, 3, 2))\n",
    "multiarray[c(1),,1]\n",
    "\n",
    "# Access all the items from the first column from matrix one\n",
    "multiarray <- array(thisarray, dim = c(4, 3, 2))\n",
    "multiarray[,c(1),1]"
   ]
  },
  {
   "cell_type": "code",
   "execution_count": 20,
   "id": "relevant-white",
   "metadata": {},
   "outputs": [
    {
     "data": {
      "text/html": [
       "FALSE"
      ],
      "text/latex": [
       "FALSE"
      ],
      "text/markdown": [
       "FALSE"
      ],
      "text/plain": [
       "[1] FALSE"
      ]
     },
     "metadata": {},
     "output_type": "display_data"
    }
   ],
   "source": [
    "thisarray <- c(1:24)\n",
    "multiarray <- array(thisarray, dim = c(4, 3, 2))\n",
    "\n",
    "200 %in% multiarray"
   ]
  },
  {
   "cell_type": "code",
   "execution_count": 17,
   "id": "boolean-canvas",
   "metadata": {},
   "outputs": [
    {
     "data": {
      "text/html": [
       "<ol class=list-inline>\n",
       "\t<li>4</li>\n",
       "\t<li>3</li>\n",
       "\t<li>2</li>\n",
       "</ol>\n"
      ],
      "text/latex": [
       "\\begin{enumerate*}\n",
       "\\item 4\n",
       "\\item 3\n",
       "\\item 2\n",
       "\\end{enumerate*}\n"
      ],
      "text/markdown": [
       "1. 4\n",
       "2. 3\n",
       "3. 2\n",
       "\n",
       "\n"
      ],
      "text/plain": [
       "[1] 4 3 2"
      ]
     },
     "metadata": {},
     "output_type": "display_data"
    }
   ],
   "source": [
    "thisarray <- c(1:24)\n",
    "multiarray <- array(thisarray, dim = c(4, 3, 2))\n",
    "\n",
    "dim(multiarray)"
   ]
  },
  {
   "cell_type": "code",
   "execution_count": 18,
   "id": "eleven-fiber",
   "metadata": {},
   "outputs": [
    {
     "name": "stdout",
     "output_type": "stream",
     "text": [
      ", , Matrix1\n",
      "\n",
      "     Col1 Col2 Col3\n",
      "Row1    1   10   13\n",
      "Row2    3   11   14\n",
      "Row3    5   12   15\n",
      "\n",
      ", , Matrix2\n",
      "\n",
      "     Col1 Col2 Col3\n",
      "Row1    1   10   13\n",
      "Row2    3   11   14\n",
      "Row3    5   12   15\n",
      "\n"
     ]
    }
   ],
   "source": [
    "#Creating two vectors of different lengths  \n",
    "vec1 <-c(1,3,5)  \n",
    "vec2 <-c(10,11,12,13,14,15)  \n",
    "  \n",
    "#Initializing names for rows, columns and matrices  \n",
    "col_names <- c(\"Col1\",\"Col2\",\"Col3\")  \n",
    "row_names <- c(\"Row1\",\"Row2\",\"Row3\")  \n",
    "matrix_names <- c(\"Matrix1\",\"Matrix2\")  \n",
    "  \n",
    "#Taking the vectors as input to the array   \n",
    "res <- array(c(vec1,vec2),dim=c(3,3,2),dimnames=list(row_names,col_names,matrix_names))  \n",
    "print(res)  "
   ]
  },
  {
   "cell_type": "code",
   "execution_count": 19,
   "id": "rubber-namibia",
   "metadata": {},
   "outputs": [
    {
     "name": "stdout",
     "output_type": "stream",
     "text": [
      ", , 1\n",
      "\n",
      "     [,1] [,2] [,3]\n",
      "[1,]    1   10   13\n",
      "[2,]    3   11   14\n",
      "[3,]    5   12   15\n",
      "\n",
      ", , 2\n",
      "\n",
      "     [,1] [,2] [,3]\n",
      "[1,]    1   10   13\n",
      "[2,]    3   11   14\n",
      "[3,]    5   12   15\n",
      "\n",
      ", , 1\n",
      "\n",
      "     [,1] [,2] [,3]\n",
      "[1,]    8   16   46\n",
      "[2,]    4   73   36\n",
      "[3,]    7   48   73\n",
      "\n",
      ", , 2\n",
      "\n",
      "     [,1] [,2] [,3]\n",
      "[1,]    8   16   46\n",
      "[2,]    4   73   36\n",
      "[3,]    7   48   73\n",
      "\n",
      "     [,1] [,2] [,3]\n",
      "[1,]    9   26   59\n",
      "[2,]    7   84   50\n",
      "[3,]   12   60   88\n"
     ]
    }
   ],
   "source": [
    "#Creating two vectors of different lengths  \n",
    "vec1 <-c(1,3,5)  \n",
    "vec2 <-c(10,11,12,13,14,15)  \n",
    "  \n",
    "#Taking the vectors as input to the array1   \n",
    "res1 <- array(c(vec1,vec2),dim=c(3,3,2))  \n",
    "print(res1)  \n",
    "  \n",
    "#Creating two vectors of different lengths  \n",
    "vec1 <-c(8,4,7)  \n",
    "vec2 <-c(16,73,48,46,36,73)  \n",
    "  \n",
    "#Taking the vectors as input to the array2   \n",
    "res2 <- array(c(vec1,vec2),dim=c(3,3,2))  \n",
    "print(res2)  \n",
    "  \n",
    "#Creating matrices from these arrays  \n",
    "mat1 <- res1[,,2]  \n",
    "mat2 <- res2[,,2]  \n",
    "res3 <- mat1+mat2  \n",
    "print(res3)  "
   ]
  },
  {
   "cell_type": "code",
   "execution_count": 3,
   "id": "polar-worth",
   "metadata": {},
   "outputs": [
    {
     "name": "stdout",
     "output_type": "stream",
     "text": [
      "[1]  5 12 15\n"
     ]
    }
   ],
   "source": [
    "print(res[3,,2])"
   ]
  },
  {
   "cell_type": "code",
   "execution_count": 5,
   "id": "caroline-league",
   "metadata": {},
   "outputs": [
    {
     "name": "stdout",
     "output_type": "stream",
     "text": [
      "[1] 13\n"
     ]
    }
   ],
   "source": [
    "print(res[1,3,1])"
   ]
  },
  {
   "cell_type": "code",
   "execution_count": 7,
   "id": "identical-pacific",
   "metadata": {},
   "outputs": [
    {
     "name": "stdout",
     "output_type": "stream",
     "text": [
      "     [,1] [,2] [,3]\n",
      "[1,]    2    6   12\n",
      "[2,]    4    8   14\n",
      "[3,]    6   10   16\n"
     ]
    }
   ],
   "source": [
    "vector1 <- c(1,2,3)\n",
    "vector2 <- c(3,4,5,6,7,8)\n",
    "array1 <- array(c(vector1,vector2),dim = c(3,3,2))\n",
    "vector3 <- c(3,2,1)\n",
    "vector4 <- c(8,7,6,5,4,3)\n",
    "array2 <- array(c(vector1,vector2),dim = c(3,3,2))\n",
    "matrix1 <- array1[,,2]\n",
    "matrix2 <- array2[,,2]\n",
    "result <- matrix1+matrix2\n",
    "print(result)"
   ]
  },
  {
   "cell_type": "code",
   "execution_count": 8,
   "id": "white-taylor",
   "metadata": {},
   "outputs": [
    {
     "name": "stdout",
     "output_type": "stream",
     "text": [
      ", , 1\n",
      "\n",
      "     [,1] [,2] [,3]\n",
      "[1,]    1    3    6\n",
      "[2,]    2    4    7\n",
      "[3,]    3    5    8\n",
      "\n",
      ", , 2\n",
      "\n",
      "     [,1] [,2] [,3]\n",
      "[1,]    1    3    6\n",
      "[2,]    2    4    7\n",
      "[3,]    3    5    8\n",
      "\n"
     ]
    }
   ],
   "source": [
    "vector1 <- c(1,2,3)\n",
    "vector2 <- c(3,4,5,6,7,8)\n",
    "new.array <- array(c(vector1,vector2),dim = c(3,3,2))\n",
    "print(new.array)"
   ]
  },
  {
   "cell_type": "code",
   "execution_count": 9,
   "id": "prompt-exclusive",
   "metadata": {},
   "outputs": [
    {
     "name": "stdout",
     "output_type": "stream",
     "text": [
      "[1] 20 26 32\n"
     ]
    }
   ],
   "source": [
    "result <- apply(new.array, c(1), sum)\n",
    "print(result)"
   ]
  },
  {
   "cell_type": "code",
   "execution_count": null,
   "id": "indirect-morrison",
   "metadata": {},
   "outputs": [],
   "source": [
    "R program to create a two-dimensional 5x3 array of sequence of even integers greater than 50"
   ]
  }
 ],
 "metadata": {
  "kernelspec": {
   "display_name": "R",
   "language": "R",
   "name": "ir"
  },
  "language_info": {
   "codemirror_mode": "r",
   "file_extension": ".r",
   "mimetype": "text/x-r-source",
   "name": "R",
   "pygments_lexer": "r",
   "version": "3.6.1"
  }
 },
 "nbformat": 4,
 "nbformat_minor": 5
}
