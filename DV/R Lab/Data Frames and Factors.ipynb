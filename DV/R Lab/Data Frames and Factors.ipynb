{
 "cells": [
  {
   "cell_type": "markdown",
   "id": "sitting-dublin",
   "metadata": {},
   "source": [
    "What is a Data Frame?\n",
    "A data frame is a list of vectors which are of equal length. \n",
    "A matrix contains only one type of data, while a data frame accepts different data types (numeric, character, factor, etc.).\n"
   ]
  },
  {
   "cell_type": "code",
   "execution_count": null,
   "id": "ideal-replication",
   "metadata": {},
   "outputs": [],
   "source": [
    "# Create the data frame.\n",
    "emp.data <- data.frame(\n",
    "   emp_id = c (1:5), \n",
    "   emp_name = c(\"Rick\",\"Dan\",\"Michelle\",\"Ryan\",\"Gary\"),\n",
    "   salary = c(623.3,515.2,611.0,729.0,843.25), \n",
    "   \n",
    "   start_date = as.Date(c(\"2012-01-01\", \"2013-09-23\", \"2014-11-15\", \"2014-05-11\",\n",
    "      \"2015-03-27\")),\n",
    "   stringsAsFactors = FALSE\n",
    ")\n",
    "# Print the data frame.\t\t\t\n",
    "print(emp.data)"
   ]
  },
  {
   "cell_type": "code",
   "execution_count": null,
   "id": "imperial-frequency",
   "metadata": {},
   "outputs": [],
   "source": [
    "# Get the structure of data frame\n",
    "str(emp.data)"
   ]
  },
  {
   "cell_type": "code",
   "execution_count": null,
   "id": "religious-march",
   "metadata": {},
   "outputs": [],
   "source": [
    "# Print the summary.\n",
    "print(summary(emp.data))"
   ]
  },
  {
   "cell_type": "code",
   "execution_count": null,
   "id": "consecutive-puppy",
   "metadata": {},
   "outputs": [],
   "source": [
    "# Extract Specific columns.\n",
    "result <- data.frame(emp.data$emp_name,emp.data$salary)\n",
    "print(result)"
   ]
  },
  {
   "cell_type": "code",
   "execution_count": null,
   "id": "congressional-envelope",
   "metadata": {},
   "outputs": [],
   "source": [
    "# Extract first two rows.\n",
    "result <- emp.data[1:2,]\n",
    "print(result)"
   ]
  },
  {
   "cell_type": "code",
   "execution_count": null,
   "id": "wrong-pavilion",
   "metadata": {},
   "outputs": [],
   "source": [
    "result <- emp.data[c(3,5),c(2,4)]\n",
    "print(result)"
   ]
  },
  {
   "cell_type": "code",
   "execution_count": null,
   "id": "competitive-renewal",
   "metadata": {},
   "outputs": [],
   "source": [
    "# Add the \"dept\" coulmn.\n",
    "emp.data$dept <- c(\"IT\",\"Operations\",\"IT\",\"HR\",\"Finance\")\n",
    "v <- emp.data\n",
    "print(v)"
   ]
  },
  {
   "cell_type": "code",
   "execution_count": null,
   "id": "differential-australian",
   "metadata": {},
   "outputs": [],
   "source": [
    "# Create the first data frame.\n",
    "emp.data <- data.frame(\n",
    "   emp_id = c (1:5), \n",
    "   emp_name = c(\"Rick\",\"Dan\",\"Michelle\",\"Ryan\",\"Gary\"),\n",
    "   salary = c(623.3,515.2,611.0,729.0,843.25), \n",
    "   \n",
    "   start_date = as.Date(c(\"2012-01-01\", \"2013-09-23\", \"2014-11-15\", \"2014-05-11\",\n",
    "      \"2015-03-27\")),\n",
    "   dept = c(\"IT\",\"Operations\",\"IT\",\"HR\",\"Finance\"),\n",
    "   stringsAsFactors = FALSE\n",
    ")\n",
    "\n",
    "# Create the second data frame\n",
    "emp.newdata <- \tdata.frame(\n",
    "   emp_id = c (6:8), \n",
    "   emp_name = c(\"Rasmi\",\"Pranab\",\"Tusar\"),\n",
    "   salary = c(578.0,722.5,632.8), \n",
    "   start_date = as.Date(c(\"2013-05-21\",\"2013-07-30\",\"2014-06-17\")),\n",
    "   dept = c(\"IT\",\"Operations\",\"Fianance\"),\n",
    "   stringsAsFactors = FALSE\n",
    ")\n",
    "\n",
    "# Bind the two data frames.\n",
    "emp.finaldata <- rbind(emp.data,emp.newdata)\n",
    "print(emp.finaldata)\n",
    "x=emp.finaldata"
   ]
  },
  {
   "cell_type": "code",
   "execution_count": null,
   "id": "digital-actor",
   "metadata": {},
   "outputs": [],
   "source": [
    "\n",
    "typeof(x)    # data frame is a special case of  list\n",
    "\n",
    "class(x)\n"
   ]
  },
  {
   "cell_type": "code",
   "execution_count": null,
   "id": "super-reservation",
   "metadata": {},
   "outputs": [],
   "source": [
    "names(x)"
   ]
  },
  {
   "cell_type": "code",
   "execution_count": null,
   "id": "effective-frost",
   "metadata": {},
   "outputs": [],
   "source": [
    "ncol(x)"
   ]
  },
  {
   "cell_type": "code",
   "execution_count": null,
   "id": "ancient-brown",
   "metadata": {},
   "outputs": [],
   "source": [
    "nrow(x)"
   ]
  },
  {
   "cell_type": "code",
   "execution_count": null,
   "id": "technical-necessity",
   "metadata": {},
   "outputs": [],
   "source": [
    "length(x)  # determines no. of columns"
   ]
  },
  {
   "cell_type": "code",
   "execution_count": null,
   "id": "confirmed-david",
   "metadata": {},
   "outputs": [],
   "source": [
    "x <- data.frame(\"SN\" = 1:2, \"Age\" = c(21,15), \"Name\" = c(\"John\",\"Dora\"))\n",
    "str(x)    # structure of x"
   ]
  },
  {
   "cell_type": "code",
   "execution_count": null,
   "id": "fresh-omega",
   "metadata": {},
   "outputs": [],
   "source": [
    "x <- data.frame(\"SN\" = 1:2, \"Age\" = c(21,15), \"Name\" = c(\"John\", \"Dora\"), stringsAsFactors = FALSE)\n",
    "str(x)"
   ]
  },
  {
   "cell_type": "code",
   "execution_count": null,
   "id": "seasonal-scope",
   "metadata": {},
   "outputs": [],
   "source": [
    "x[\"Name\"]"
   ]
  },
  {
   "cell_type": "code",
   "execution_count": null,
   "id": "computational-retirement",
   "metadata": {},
   "outputs": [],
   "source": [
    "x$Name"
   ]
  },
  {
   "cell_type": "code",
   "execution_count": null,
   "id": "standing-letters",
   "metadata": {},
   "outputs": [],
   "source": [
    "x[[\"Name\"]]"
   ]
  },
  {
   "cell_type": "code",
   "execution_count": null,
   "id": "double-closing",
   "metadata": {},
   "outputs": [],
   "source": [
    "x[[3]]"
   ]
  },
  {
   "cell_type": "code",
   "execution_count": null,
   "id": "absolute-bottle",
   "metadata": {},
   "outputs": [],
   "source": [
    "str(trees)"
   ]
  },
  {
   "cell_type": "code",
   "execution_count": null,
   "id": "cutting-parallel",
   "metadata": {},
   "outputs": [],
   "source": [
    "head(trees,n=3)"
   ]
  },
  {
   "cell_type": "code",
   "execution_count": null,
   "id": "direct-crisis",
   "metadata": {},
   "outputs": [],
   "source": [
    "trees[2:3,]"
   ]
  },
  {
   "cell_type": "code",
   "execution_count": null,
   "id": "collected-terminology",
   "metadata": {},
   "outputs": [],
   "source": [
    "trees[trees$Height > 82,]"
   ]
  },
  {
   "cell_type": "code",
   "execution_count": null,
   "id": "noted-trustee",
   "metadata": {},
   "outputs": [],
   "source": [
    "trees[10:12,2]"
   ]
  },
  {
   "cell_type": "code",
   "execution_count": null,
   "id": "personal-creature",
   "metadata": {},
   "outputs": [],
   "source": [
    "trees[10:12,2, drop = FALSE]"
   ]
  },
  {
   "cell_type": "code",
   "execution_count": null,
   "id": "active-conjunction",
   "metadata": {},
   "outputs": [],
   "source": [
    "x\n"
   ]
  },
  {
   "cell_type": "code",
   "execution_count": null,
   "id": "apart-clothing",
   "metadata": {},
   "outputs": [],
   "source": [
    "x[1,\"Age\"] <- 20"
   ]
  },
  {
   "cell_type": "code",
   "execution_count": null,
   "id": "rubber-roads",
   "metadata": {},
   "outputs": [],
   "source": [
    "x"
   ]
  },
  {
   "cell_type": "code",
   "execution_count": null,
   "id": "rough-spread",
   "metadata": {},
   "outputs": [],
   "source": [
    "rbind(x,list(1,16,\"Paul\"))"
   ]
  },
  {
   "cell_type": "code",
   "execution_count": null,
   "id": "inside-divorce",
   "metadata": {},
   "outputs": [],
   "source": [
    "cbind(x,State=c(\"NY\",\"FL\"))"
   ]
  },
  {
   "cell_type": "code",
   "execution_count": null,
   "id": "attached-breed",
   "metadata": {},
   "outputs": [],
   "source": [
    "x\n",
    "\n"
   ]
  },
  {
   "cell_type": "code",
   "execution_count": null,
   "id": "occupational-spotlight",
   "metadata": {},
   "outputs": [],
   "source": [
    "x$State <- c(\"NY\",\"FL\")"
   ]
  },
  {
   "cell_type": "code",
   "execution_count": null,
   "id": "empirical-details",
   "metadata": {},
   "outputs": [],
   "source": [
    "x\n"
   ]
  },
  {
   "cell_type": "code",
   "execution_count": null,
   "id": "aging-exemption",
   "metadata": {},
   "outputs": [],
   "source": [
    "x$State <- NULL\n",
    "x"
   ]
  },
  {
   "cell_type": "code",
   "execution_count": null,
   "id": "norwegian-corner",
   "metadata": {},
   "outputs": [],
   "source": [
    "x <- x[-1,]\n",
    "x"
   ]
  },
  {
   "cell_type": "code",
   "execution_count": null,
   "id": "phantom-relief",
   "metadata": {},
   "outputs": [],
   "source": [
    "Factors are used to categorize data. Examples of factors are:\n",
    "\n",
    "Demography: Male/Female\n",
    "Music: Rock, Pop, Classic, Jazz\n",
    "Training: Strength, Stamina"
   ]
  },
  {
   "cell_type": "code",
   "execution_count": 1,
   "id": "occupational-opportunity",
   "metadata": {},
   "outputs": [
    {
     "data": {
      "text/html": [
       "<ol class=list-inline>\n",
       "\t<li>Jazz</li>\n",
       "\t<li>Rock</li>\n",
       "\t<li>Classic</li>\n",
       "\t<li>Classic</li>\n",
       "\t<li>Pop</li>\n",
       "\t<li>Jazz</li>\n",
       "\t<li>Rock</li>\n",
       "\t<li>Jazz</li>\n",
       "</ol>\n",
       "\n",
       "<details>\n",
       "\t<summary style=display:list-item;cursor:pointer>\n",
       "\t\t<strong>Levels</strong>:\n",
       "\t</summary>\n",
       "\t<ol class=list-inline>\n",
       "\t\t<li>'Classic'</li>\n",
       "\t\t<li>'Jazz'</li>\n",
       "\t\t<li>'Pop'</li>\n",
       "\t\t<li>'Rock'</li>\n",
       "\t</ol>\n",
       "</details>"
      ],
      "text/latex": [
       "\\begin{enumerate*}\n",
       "\\item Jazz\n",
       "\\item Rock\n",
       "\\item Classic\n",
       "\\item Classic\n",
       "\\item Pop\n",
       "\\item Jazz\n",
       "\\item Rock\n",
       "\\item Jazz\n",
       "\\end{enumerate*}\n",
       "\n",
       "\\emph{Levels}: \\begin{enumerate*}\n",
       "\\item 'Classic'\n",
       "\\item 'Jazz'\n",
       "\\item 'Pop'\n",
       "\\item 'Rock'\n",
       "\\end{enumerate*}\n"
      ],
      "text/markdown": [
       "1. Jazz\n",
       "2. Rock\n",
       "3. Classic\n",
       "4. Classic\n",
       "5. Pop\n",
       "6. Jazz\n",
       "7. Rock\n",
       "8. Jazz\n",
       "\n",
       "\n",
       "\n",
       "**Levels**: 1. 'Classic'\n",
       "2. 'Jazz'\n",
       "3. 'Pop'\n",
       "4. 'Rock'\n",
       "\n",
       "\n"
      ],
      "text/plain": [
       "[1] Jazz    Rock    Classic Classic Pop     Jazz    Rock    Jazz   \n",
       "Levels: Classic Jazz Pop Rock"
      ]
     },
     "metadata": {},
     "output_type": "display_data"
    }
   ],
   "source": [
    "# Create a factor\n",
    "music_g <- factor(c(\"Jazz\", \"Rock\", \"Classic\", \"Classic\", \"Pop\", \"Jazz\", \"Rock\", \"Jazz\"))\n",
    "\n",
    "# Print the factor\n",
    "music_g"
   ]
  },
  {
   "cell_type": "code",
   "execution_count": 2,
   "id": "decent-abraham",
   "metadata": {},
   "outputs": [
    {
     "data": {
      "text/html": [
       "<ol class=list-inline>\n",
       "\t<li>'Classic'</li>\n",
       "\t<li>'Jazz'</li>\n",
       "\t<li>'Pop'</li>\n",
       "\t<li>'Rock'</li>\n",
       "</ol>\n"
      ],
      "text/latex": [
       "\\begin{enumerate*}\n",
       "\\item 'Classic'\n",
       "\\item 'Jazz'\n",
       "\\item 'Pop'\n",
       "\\item 'Rock'\n",
       "\\end{enumerate*}\n"
      ],
      "text/markdown": [
       "1. 'Classic'\n",
       "2. 'Jazz'\n",
       "3. 'Pop'\n",
       "4. 'Rock'\n",
       "\n",
       "\n"
      ],
      "text/plain": [
       "[1] \"Classic\" \"Jazz\"    \"Pop\"     \"Rock\"   "
      ]
     },
     "metadata": {},
     "output_type": "display_data"
    }
   ],
   "source": [
    "\n",
    "levels(music_g)"
   ]
  },
  {
   "cell_type": "code",
   "execution_count": 3,
   "id": "electoral-apollo",
   "metadata": {},
   "outputs": [
    {
     "data": {
      "text/html": [
       "<ol class=list-inline>\n",
       "\t<li>'Classic'</li>\n",
       "\t<li>'Jazz'</li>\n",
       "\t<li>'Pop'</li>\n",
       "\t<li>'Rock'</li>\n",
       "\t<li>'Other'</li>\n",
       "</ol>\n"
      ],
      "text/latex": [
       "\\begin{enumerate*}\n",
       "\\item 'Classic'\n",
       "\\item 'Jazz'\n",
       "\\item 'Pop'\n",
       "\\item 'Rock'\n",
       "\\item 'Other'\n",
       "\\end{enumerate*}\n"
      ],
      "text/markdown": [
       "1. 'Classic'\n",
       "2. 'Jazz'\n",
       "3. 'Pop'\n",
       "4. 'Rock'\n",
       "5. 'Other'\n",
       "\n",
       "\n"
      ],
      "text/plain": [
       "[1] \"Classic\" \"Jazz\"    \"Pop\"     \"Rock\"    \"Other\"  "
      ]
     },
     "metadata": {},
     "output_type": "display_data"
    }
   ],
   "source": [
    "music_g <- factor(c(\"Jazz\", \"Rock\", \"Classic\", \"Classic\", \"Pop\", \"Jazz\", \"Rock\", \"Jazz\"), levels = c(\"Classic\", \"Jazz\", \"Pop\", \"Rock\", \"Other\"))\n",
    "\n",
    "levels(music_g)"
   ]
  },
  {
   "cell_type": "code",
   "execution_count": 4,
   "id": "sufficient-condition",
   "metadata": {},
   "outputs": [
    {
     "data": {
      "text/html": [
       "8"
      ],
      "text/latex": [
       "8"
      ],
      "text/markdown": [
       "8"
      ],
      "text/plain": [
       "[1] 8"
      ]
     },
     "metadata": {},
     "output_type": "display_data"
    }
   ],
   "source": [
    "music_g <- factor(c(\"Jazz\", \"Rock\", \"Classic\", \"Classic\", \"Pop\", \"Jazz\", \"Rock\", \"Jazz\"))\n",
    "\n",
    "length(music_g)"
   ]
  },
  {
   "cell_type": "code",
   "execution_count": 9,
   "id": "organic-cooperative",
   "metadata": {},
   "outputs": [
    {
     "data": {
      "text/html": [
       "Classic\n",
       "<details>\n",
       "\t<summary style=display:list-item;cursor:pointer>\n",
       "\t\t<strong>Levels</strong>:\n",
       "\t</summary>\n",
       "\t<ol class=list-inline>\n",
       "\t\t<li>'Classic'</li>\n",
       "\t\t<li>'Jazz'</li>\n",
       "\t\t<li>'Pop'</li>\n",
       "\t\t<li>'Rock'</li>\n",
       "\t</ol>\n",
       "</details>"
      ],
      "text/latex": [
       "Classic\n",
       "\\emph{Levels}: \\begin{enumerate*}\n",
       "\\item 'Classic'\n",
       "\\item 'Jazz'\n",
       "\\item 'Pop'\n",
       "\\item 'Rock'\n",
       "\\end{enumerate*}\n"
      ],
      "text/markdown": [
       "Classic\n",
       "**Levels**: 1. 'Classic'\n",
       "2. 'Jazz'\n",
       "3. 'Pop'\n",
       "4. 'Rock'\n",
       "\n",
       "\n"
      ],
      "text/plain": [
       "[1] Classic\n",
       "Levels: Classic Jazz Pop Rock"
      ]
     },
     "metadata": {},
     "output_type": "display_data"
    }
   ],
   "source": [
    "music_g <- factor(c(\"Jazz\", \"Rock\", \"Classic\", \"Classic\", \"Pop\", \"Jazz\", \"Rock\", \"Jazz\"))\n",
    "\n",
    "music_g[3]"
   ]
  },
  {
   "cell_type": "code",
   "execution_count": 11,
   "id": "according-blink",
   "metadata": {},
   "outputs": [
    {
     "data": {
      "text/html": [
       "Pop\n",
       "<details>\n",
       "\t<summary style=display:list-item;cursor:pointer>\n",
       "\t\t<strong>Levels</strong>:\n",
       "\t</summary>\n",
       "\t<ol class=list-inline>\n",
       "\t\t<li>'Classic'</li>\n",
       "\t\t<li>'Jazz'</li>\n",
       "\t\t<li>'Pop'</li>\n",
       "\t\t<li>'Rock'</li>\n",
       "\t</ol>\n",
       "</details>"
      ],
      "text/latex": [
       "Pop\n",
       "\\emph{Levels}: \\begin{enumerate*}\n",
       "\\item 'Classic'\n",
       "\\item 'Jazz'\n",
       "\\item 'Pop'\n",
       "\\item 'Rock'\n",
       "\\end{enumerate*}\n"
      ],
      "text/markdown": [
       "Pop\n",
       "**Levels**: 1. 'Classic'\n",
       "2. 'Jazz'\n",
       "3. 'Pop'\n",
       "4. 'Rock'\n",
       "\n",
       "\n"
      ],
      "text/plain": [
       "[1] Pop\n",
       "Levels: Classic Jazz Pop Rock"
      ]
     },
     "metadata": {},
     "output_type": "display_data"
    },
    {
     "data": {
      "text/html": [
       "<ol class=list-inline>\n",
       "\t<li>Jazz</li>\n",
       "\t<li>Rock</li>\n",
       "\t<li>Pop</li>\n",
       "\t<li>Classic</li>\n",
       "\t<li>Pop</li>\n",
       "\t<li>Jazz</li>\n",
       "\t<li>Rock</li>\n",
       "\t<li>Jazz</li>\n",
       "</ol>\n",
       "\n",
       "<details>\n",
       "\t<summary style=display:list-item;cursor:pointer>\n",
       "\t\t<strong>Levels</strong>:\n",
       "\t</summary>\n",
       "\t<ol class=list-inline>\n",
       "\t\t<li>'Classic'</li>\n",
       "\t\t<li>'Jazz'</li>\n",
       "\t\t<li>'Pop'</li>\n",
       "\t\t<li>'Rock'</li>\n",
       "\t</ol>\n",
       "</details>"
      ],
      "text/latex": [
       "\\begin{enumerate*}\n",
       "\\item Jazz\n",
       "\\item Rock\n",
       "\\item Pop\n",
       "\\item Classic\n",
       "\\item Pop\n",
       "\\item Jazz\n",
       "\\item Rock\n",
       "\\item Jazz\n",
       "\\end{enumerate*}\n",
       "\n",
       "\\emph{Levels}: \\begin{enumerate*}\n",
       "\\item 'Classic'\n",
       "\\item 'Jazz'\n",
       "\\item 'Pop'\n",
       "\\item 'Rock'\n",
       "\\end{enumerate*}\n"
      ],
      "text/markdown": [
       "1. Jazz\n",
       "2. Rock\n",
       "3. Pop\n",
       "4. Classic\n",
       "5. Pop\n",
       "6. Jazz\n",
       "7. Rock\n",
       "8. Jazz\n",
       "\n",
       "\n",
       "\n",
       "**Levels**: 1. 'Classic'\n",
       "2. 'Jazz'\n",
       "3. 'Pop'\n",
       "4. 'Rock'\n",
       "\n",
       "\n"
      ],
      "text/plain": [
       "[1] Jazz    Rock    Pop     Classic Pop     Jazz    Rock    Jazz   \n",
       "Levels: Classic Jazz Pop Rock"
      ]
     },
     "metadata": {},
     "output_type": "display_data"
    }
   ],
   "source": [
    "music_g <- factor(c(\"Jazz\", \"Rock\", \"Classic\", \"Classic\", \"Pop\", \"Jazz\", \"Rock\", \"Jazz\"))\n",
    "\n",
    "music_g[3] <- \"Pop\"\n",
    "\n",
    "music_g[3]\n",
    "music_g"
   ]
  },
  {
   "cell_type": "code",
   "execution_count": 12,
   "id": "quantitative-protection",
   "metadata": {},
   "outputs": [
    {
     "name": "stderr",
     "output_type": "stream",
     "text": [
      "Warning message in `[<-.factor`(`*tmp*`, 3, value = \"Opera\"):\n",
      "\"invalid factor level, NA generated\""
     ]
    },
    {
     "data": {
      "text/html": [
       "&lt;NA&gt;\n",
       "<details>\n",
       "\t<summary style=display:list-item;cursor:pointer>\n",
       "\t\t<strong>Levels</strong>:\n",
       "\t</summary>\n",
       "\t<ol class=list-inline>\n",
       "\t\t<li>'Classic'</li>\n",
       "\t\t<li>'Jazz'</li>\n",
       "\t\t<li>'Pop'</li>\n",
       "\t\t<li>'Rock'</li>\n",
       "\t</ol>\n",
       "</details>"
      ],
      "text/latex": [
       "<NA>\n",
       "\\emph{Levels}: \\begin{enumerate*}\n",
       "\\item 'Classic'\n",
       "\\item 'Jazz'\n",
       "\\item 'Pop'\n",
       "\\item 'Rock'\n",
       "\\end{enumerate*}\n"
      ],
      "text/markdown": [
       "&lt;NA&gt;\n",
       "**Levels**: 1. 'Classic'\n",
       "2. 'Jazz'\n",
       "3. 'Pop'\n",
       "4. 'Rock'\n",
       "\n",
       "\n"
      ],
      "text/plain": [
       "[1] <NA>\n",
       "Levels: Classic Jazz Pop Rock"
      ]
     },
     "metadata": {},
     "output_type": "display_data"
    }
   ],
   "source": [
    "music_g <- factor(c(\"Jazz\", \"Rock\", \"Classic\", \"Classic\", \"Pop\", \"Jazz\", \"Rock\", \"Jazz\"))\n",
    "\n",
    "music_g[3] <- \"Opera\"\n",
    "\n",
    "music_g[3]"
   ]
  },
  {
   "cell_type": "code",
   "execution_count": 13,
   "id": "occupational-collar",
   "metadata": {},
   "outputs": [
    {
     "name": "stdout",
     "output_type": "stream",
     "text": [
      "[1] \"Original vector:\"\n",
      "[1] \"a\" \"b\" \"a\" \"c\" \"b\"\n",
      "[1] \"Factor of the said vector:\"\n",
      "[1] a b a c b\n",
      "Levels: a b c\n",
      "[1] e b e c b\n",
      "Levels: e b c\n"
     ]
    }
   ],
   "source": [
    "# change the first level of a factor with another level of a given factor\n",
    "\n",
    "v = c(\"a\", \"b\", \"a\", \"c\", \"b\")\n",
    "print(\"Original vector:\")\n",
    "print(v)\n",
    "f = factor(v)\n",
    "print(\"Factor of the said vector:\")\n",
    "print(f)\n",
    "levels(f)[1] = \"e\"\n",
    "print(f)"
   ]
  },
  {
   "cell_type": "code",
   "execution_count": 14,
   "id": "surface-volleyball",
   "metadata": {},
   "outputs": [
    {
     "name": "stdout",
     "output_type": "stream",
     "text": [
      "[1] \"Original vector:\"\n",
      "[1] \"Ordered factors of the said vector:\"\n",
      "f\n",
      "    April    August  December  February   January      July     March       May \n",
      "        2         4         1         4         3         1         1         1 \n",
      " November   October September \n",
      "        5         1         4 \n"
     ]
    }
   ],
   "source": [
    "mons_v = c(\"March\",\"April\",\"January\",\"November\",\"January\",\n",
    "\"September\",\"October\",\"September\",\"November\",\"August\",\"February\",\n",
    "\"January\",\"November\",\"November\",\"February\",\"May\",\"August\",\"February\",\n",
    "\"July\",\"December\",\"August\",\"August\",\"September\",\"November\",\"September\",\n",
    "\"February\",\"April\")\n",
    "print(\"Original vector:\")\n",
    "#print(mons_v)\n",
    "f = factor(mons_v)\n",
    "print(\"Ordered factors of the said vector:\")\n",
    "#print(f)\n",
    "print(table(f))"
   ]
  },
  {
   "cell_type": "code",
   "execution_count": null,
   "id": "alternate-hepatitis",
   "metadata": {},
   "outputs": [],
   "source": [
    "a <- 5"
   ]
  },
  {
   "cell_type": "code",
   "execution_count": null,
   "id": "alleged-beginning",
   "metadata": {},
   "outputs": [],
   "source": [
    "\n",
    "->"
   ]
  },
  {
   "cell_type": "code",
   "execution_count": null,
   "id": "structural-disco",
   "metadata": {},
   "outputs": [],
   "source": []
  }
 ],
 "metadata": {
  "kernelspec": {
   "display_name": "R",
   "language": "R",
   "name": "ir"
  },
  "language_info": {
   "codemirror_mode": "r",
   "file_extension": ".r",
   "mimetype": "text/x-r-source",
   "name": "R",
   "pygments_lexer": "r",
   "version": "3.6.1"
  }
 },
 "nbformat": 4,
 "nbformat_minor": 5
}
